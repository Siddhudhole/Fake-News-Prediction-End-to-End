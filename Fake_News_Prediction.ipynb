{
  "cells": [
    {
      "cell_type": "markdown",
      "metadata": {
        "id": "qlwN_-G1YnqJ"
      },
      "source": [
        "**Load data**"
      ]
    },
    {
      "cell_type": "code",
      "execution_count": null,
      "metadata": {},
      "outputs": [],
      "source": [
        "import gdown\n",
        "from pathlib import Path "
      ]
    },
    {
      "cell_type": "code",
      "execution_count": null,
      "metadata": {},
      "outputs": [],
      "source": [
        "true_file_url = \"https://drive.google.com/file/d/1sUCKf3XrvdGXm2gQ51uMnQgpzQCYyt9D/view?usp=sharing\""
      ]
    },
    {
      "cell_type": "code",
      "execution_count": null,
      "metadata": {},
      "outputs": [],
      "source": [
        "true_file_id = '1sUCKf3XrvdGXm2gQ51uMnQgpzQCYyt9D'\n",
        "true_destination = Path('artifacts\\data\\true.csv')  "
      ]
    },
    {
      "cell_type": "code",
      "execution_count": null,
      "metadata": {},
      "outputs": [],
      "source": [
        "\n",
        "\n",
        "# Replace 'your-file-id' with the actual file ID from the Google Drive shareable link\n",
        "\n",
        "\n",
        "gdown.download(f'https://drive.google.com/uc?id={file_id}', destination, quiet=False)\n"
      ]
    },
    {
      "cell_type": "code",
      "execution_count": null,
      "metadata": {},
      "outputs": [],
      "source": []
    },
    {
      "cell_type": "code",
      "execution_count": null,
      "metadata": {
        "id": "z2-Yy6uN798T"
      },
      "outputs": [],
      "source": [
        "import pandas as pd"
      ]
    },
    {
      "cell_type": "code",
      "execution_count": null,
      "metadata": {
        "id": "YHfi2DWtXKMs"
      },
      "outputs": [],
      "source": [
        "true_df = pd.read_csv('True.csv',encoding='ISO-8859-1',on_bad_lines='skip',engine='python')"
      ]
    },
    {
      "cell_type": "code",
      "execution_count": null,
      "metadata": {
        "id": "dicKxl1CXTRk"
      },
      "outputs": [],
      "source": [
        "fake_df = pd.read_csv('Fake.csv',encoding='ISO-8859-1',on_bad_lines='skip',engine='python')"
      ]
    },
    {
      "cell_type": "code",
      "execution_count": null,
      "metadata": {
        "id": "59bPAYc7Yxem"
      },
      "outputs": [],
      "source": [
        "fake_df['label'] = 1\n",
        "true_df['label'] = 0"
      ]
    },
    {
      "cell_type": "code",
      "execution_count": null,
      "metadata": {
        "id": "3gTh3RU-Y1RM"
      },
      "outputs": [],
      "source": [
        "df = pd.concat([true_df,fake_df],ignore_index=True)"
      ]
    },
    {
      "cell_type": "code",
      "execution_count": null,
      "metadata": {
        "colab": {
          "base_uri": "https://localhost:8080/"
        },
        "id": "u5wIuqeVY5KT",
        "outputId": "70dc7f9f-4d47-4db5-f96c-a283876513ed"
      },
      "outputs": [
        {
          "data": {
            "text/plain": [
              "Index(['title', 'text', 'subject', 'date', 'label'], dtype='object')"
            ]
          },
          "execution_count": 6,
          "metadata": {},
          "output_type": "execute_result"
        }
      ],
      "source": [
        "df.columns"
      ]
    },
    {
      "cell_type": "code",
      "execution_count": null,
      "metadata": {
        "colab": {
          "base_uri": "https://localhost:8080/"
        },
        "id": "ikhg1xieZCky",
        "outputId": "ae76323f-d4ec-481c-c00f-f6be8fbf4903"
      },
      "outputs": [
        {
          "data": {
            "text/plain": [
              "(44897, 5)"
            ]
          },
          "execution_count": 7,
          "metadata": {},
          "output_type": "execute_result"
        }
      ],
      "source": [
        "df.shape"
      ]
    },
    {
      "cell_type": "code",
      "execution_count": null,
      "metadata": {
        "colab": {
          "base_uri": "https://localhost:8080/",
          "height": 394
        },
        "id": "_glPdPqrZEPb",
        "outputId": "d289a628-ecfc-43e4-c50c-306f32804ddd"
      },
      "outputs": [
        {
          "data": {
            "application/vnd.google.colaboratory.intrinsic+json": {
              "summary": "{\n  \"name\": \"df\",\n  \"rows\": 11,\n  \"fields\": [\n    {\n      \"column\": \"title\",\n      \"properties\": {\n        \"dtype\": \"category\",\n        \"num_unique_values\": 4,\n        \"samples\": [\n          38728,\n          \"14\",\n          \"44897\"\n        ],\n        \"semantic_type\": \"\",\n        \"description\": \"\"\n      }\n    },\n    {\n      \"column\": \"text\",\n      \"properties\": {\n        \"dtype\": \"category\",\n        \"num_unique_values\": 4,\n        \"samples\": [\n          38645,\n          \"627\",\n          \"44897\"\n        ],\n        \"semantic_type\": \"\",\n        \"description\": \"\"\n      }\n    },\n    {\n      \"column\": \"subject\",\n      \"properties\": {\n        \"dtype\": \"category\",\n        \"num_unique_values\": 4,\n        \"samples\": [\n          8,\n          \"11271\",\n          \"44897\"\n        ],\n        \"semantic_type\": \"\",\n        \"description\": \"\"\n      }\n    },\n    {\n      \"column\": \"date\",\n      \"properties\": {\n        \"dtype\": \"date\",\n        \"min\": \"1970-01-01 00:00:00.000000182\",\n        \"max\": \"2017-12-20 00:00:00\",\n        \"num_unique_values\": 4,\n        \"samples\": [\n          2397,\n          \"182\",\n          \"44897\"\n        ],\n        \"semantic_type\": \"\",\n        \"description\": \"\"\n      }\n    },\n    {\n      \"column\": \"label\",\n      \"properties\": {\n        \"dtype\": \"number\",\n        \"std\": 15873.283417325996,\n        \"min\": 0.0,\n        \"max\": 44897.0,\n        \"num_unique_values\": 5,\n        \"samples\": [\n          0.5229970822103926,\n          1.0,\n          0.49947641671524795\n        ],\n        \"semantic_type\": \"\",\n        \"description\": \"\"\n      }\n    }\n  ]\n}",
              "type": "dataframe"
            },
            "text/html": [
              "\n",
              "  <div id=\"df-ec16e774-0405-4018-942c-42f9dcdee0ea\" class=\"colab-df-container\">\n",
              "    <div>\n",
              "<style scoped>\n",
              "    .dataframe tbody tr th:only-of-type {\n",
              "        vertical-align: middle;\n",
              "    }\n",
              "\n",
              "    .dataframe tbody tr th {\n",
              "        vertical-align: top;\n",
              "    }\n",
              "\n",
              "    .dataframe thead th {\n",
              "        text-align: right;\n",
              "    }\n",
              "</style>\n",
              "<table border=\"1\" class=\"dataframe\">\n",
              "  <thead>\n",
              "    <tr style=\"text-align: right;\">\n",
              "      <th></th>\n",
              "      <th>title</th>\n",
              "      <th>text</th>\n",
              "      <th>subject</th>\n",
              "      <th>date</th>\n",
              "      <th>label</th>\n",
              "    </tr>\n",
              "  </thead>\n",
              "  <tbody>\n",
              "    <tr>\n",
              "      <th>count</th>\n",
              "      <td>44897</td>\n",
              "      <td>44897</td>\n",
              "      <td>44897</td>\n",
              "      <td>44897</td>\n",
              "      <td>44897.000000</td>\n",
              "    </tr>\n",
              "    <tr>\n",
              "      <th>unique</th>\n",
              "      <td>38728</td>\n",
              "      <td>38645</td>\n",
              "      <td>8</td>\n",
              "      <td>2397</td>\n",
              "      <td>NaN</td>\n",
              "    </tr>\n",
              "    <tr>\n",
              "      <th>top</th>\n",
              "      <td>Factbox: Trump fills top jobs for his administ...</td>\n",
              "      <td></td>\n",
              "      <td>politicsNews</td>\n",
              "      <td>December 20, 2017</td>\n",
              "      <td>NaN</td>\n",
              "    </tr>\n",
              "    <tr>\n",
              "      <th>freq</th>\n",
              "      <td>14</td>\n",
              "      <td>627</td>\n",
              "      <td>11271</td>\n",
              "      <td>182</td>\n",
              "      <td>NaN</td>\n",
              "    </tr>\n",
              "    <tr>\n",
              "      <th>mean</th>\n",
              "      <td>NaN</td>\n",
              "      <td>NaN</td>\n",
              "      <td>NaN</td>\n",
              "      <td>NaN</td>\n",
              "      <td>0.522997</td>\n",
              "    </tr>\n",
              "    <tr>\n",
              "      <th>std</th>\n",
              "      <td>NaN</td>\n",
              "      <td>NaN</td>\n",
              "      <td>NaN</td>\n",
              "      <td>NaN</td>\n",
              "      <td>0.499476</td>\n",
              "    </tr>\n",
              "    <tr>\n",
              "      <th>min</th>\n",
              "      <td>NaN</td>\n",
              "      <td>NaN</td>\n",
              "      <td>NaN</td>\n",
              "      <td>NaN</td>\n",
              "      <td>0.000000</td>\n",
              "    </tr>\n",
              "    <tr>\n",
              "      <th>25%</th>\n",
              "      <td>NaN</td>\n",
              "      <td>NaN</td>\n",
              "      <td>NaN</td>\n",
              "      <td>NaN</td>\n",
              "      <td>0.000000</td>\n",
              "    </tr>\n",
              "    <tr>\n",
              "      <th>50%</th>\n",
              "      <td>NaN</td>\n",
              "      <td>NaN</td>\n",
              "      <td>NaN</td>\n",
              "      <td>NaN</td>\n",
              "      <td>1.000000</td>\n",
              "    </tr>\n",
              "    <tr>\n",
              "      <th>75%</th>\n",
              "      <td>NaN</td>\n",
              "      <td>NaN</td>\n",
              "      <td>NaN</td>\n",
              "      <td>NaN</td>\n",
              "      <td>1.000000</td>\n",
              "    </tr>\n",
              "    <tr>\n",
              "      <th>max</th>\n",
              "      <td>NaN</td>\n",
              "      <td>NaN</td>\n",
              "      <td>NaN</td>\n",
              "      <td>NaN</td>\n",
              "      <td>1.000000</td>\n",
              "    </tr>\n",
              "  </tbody>\n",
              "</table>\n",
              "</div>\n",
              "    <div class=\"colab-df-buttons\">\n",
              "\n",
              "  <div class=\"colab-df-container\">\n",
              "    <button class=\"colab-df-convert\" onclick=\"convertToInteractive('df-ec16e774-0405-4018-942c-42f9dcdee0ea')\"\n",
              "            title=\"Convert this dataframe to an interactive table.\"\n",
              "            style=\"display:none;\">\n",
              "\n",
              "  <svg xmlns=\"http://www.w3.org/2000/svg\" height=\"24px\" viewBox=\"0 -960 960 960\">\n",
              "    <path d=\"M120-120v-720h720v720H120Zm60-500h600v-160H180v160Zm220 220h160v-160H400v160Zm0 220h160v-160H400v160ZM180-400h160v-160H180v160Zm440 0h160v-160H620v160ZM180-180h160v-160H180v160Zm440 0h160v-160H620v160Z\"/>\n",
              "  </svg>\n",
              "    </button>\n",
              "\n",
              "  <style>\n",
              "    .colab-df-container {\n",
              "      display:flex;\n",
              "      gap: 12px;\n",
              "    }\n",
              "\n",
              "    .colab-df-convert {\n",
              "      background-color: #E8F0FE;\n",
              "      border: none;\n",
              "      border-radius: 50%;\n",
              "      cursor: pointer;\n",
              "      display: none;\n",
              "      fill: #1967D2;\n",
              "      height: 32px;\n",
              "      padding: 0 0 0 0;\n",
              "      width: 32px;\n",
              "    }\n",
              "\n",
              "    .colab-df-convert:hover {\n",
              "      background-color: #E2EBFA;\n",
              "      box-shadow: 0px 1px 2px rgba(60, 64, 67, 0.3), 0px 1px 3px 1px rgba(60, 64, 67, 0.15);\n",
              "      fill: #174EA6;\n",
              "    }\n",
              "\n",
              "    .colab-df-buttons div {\n",
              "      margin-bottom: 4px;\n",
              "    }\n",
              "\n",
              "    [theme=dark] .colab-df-convert {\n",
              "      background-color: #3B4455;\n",
              "      fill: #D2E3FC;\n",
              "    }\n",
              "\n",
              "    [theme=dark] .colab-df-convert:hover {\n",
              "      background-color: #434B5C;\n",
              "      box-shadow: 0px 1px 3px 1px rgba(0, 0, 0, 0.15);\n",
              "      filter: drop-shadow(0px 1px 2px rgba(0, 0, 0, 0.3));\n",
              "      fill: #FFFFFF;\n",
              "    }\n",
              "  </style>\n",
              "\n",
              "    <script>\n",
              "      const buttonEl =\n",
              "        document.querySelector('#df-ec16e774-0405-4018-942c-42f9dcdee0ea button.colab-df-convert');\n",
              "      buttonEl.style.display =\n",
              "        google.colab.kernel.accessAllowed ? 'block' : 'none';\n",
              "\n",
              "      async function convertToInteractive(key) {\n",
              "        const element = document.querySelector('#df-ec16e774-0405-4018-942c-42f9dcdee0ea');\n",
              "        const dataTable =\n",
              "          await google.colab.kernel.invokeFunction('convertToInteractive',\n",
              "                                                    [key], {});\n",
              "        if (!dataTable) return;\n",
              "\n",
              "        const docLinkHtml = 'Like what you see? Visit the ' +\n",
              "          '<a target=\"_blank\" href=https://colab.research.google.com/notebooks/data_table.ipynb>data table notebook</a>'\n",
              "          + ' to learn more about interactive tables.';\n",
              "        element.innerHTML = '';\n",
              "        dataTable['output_type'] = 'display_data';\n",
              "        await google.colab.output.renderOutput(dataTable, element);\n",
              "        const docLink = document.createElement('div');\n",
              "        docLink.innerHTML = docLinkHtml;\n",
              "        element.appendChild(docLink);\n",
              "      }\n",
              "    </script>\n",
              "  </div>\n",
              "\n",
              "\n",
              "<div id=\"df-e0a085a5-c637-4c42-a582-28ccc6a5adda\">\n",
              "  <button class=\"colab-df-quickchart\" onclick=\"quickchart('df-e0a085a5-c637-4c42-a582-28ccc6a5adda')\"\n",
              "            title=\"Suggest charts\"\n",
              "            style=\"display:none;\">\n",
              "\n",
              "<svg xmlns=\"http://www.w3.org/2000/svg\" height=\"24px\"viewBox=\"0 0 24 24\"\n",
              "     width=\"24px\">\n",
              "    <g>\n",
              "        <path d=\"M19 3H5c-1.1 0-2 .9-2 2v14c0 1.1.9 2 2 2h14c1.1 0 2-.9 2-2V5c0-1.1-.9-2-2-2zM9 17H7v-7h2v7zm4 0h-2V7h2v10zm4 0h-2v-4h2v4z\"/>\n",
              "    </g>\n",
              "</svg>\n",
              "  </button>\n",
              "\n",
              "<style>\n",
              "  .colab-df-quickchart {\n",
              "      --bg-color: #E8F0FE;\n",
              "      --fill-color: #1967D2;\n",
              "      --hover-bg-color: #E2EBFA;\n",
              "      --hover-fill-color: #174EA6;\n",
              "      --disabled-fill-color: #AAA;\n",
              "      --disabled-bg-color: #DDD;\n",
              "  }\n",
              "\n",
              "  [theme=dark] .colab-df-quickchart {\n",
              "      --bg-color: #3B4455;\n",
              "      --fill-color: #D2E3FC;\n",
              "      --hover-bg-color: #434B5C;\n",
              "      --hover-fill-color: #FFFFFF;\n",
              "      --disabled-bg-color: #3B4455;\n",
              "      --disabled-fill-color: #666;\n",
              "  }\n",
              "\n",
              "  .colab-df-quickchart {\n",
              "    background-color: var(--bg-color);\n",
              "    border: none;\n",
              "    border-radius: 50%;\n",
              "    cursor: pointer;\n",
              "    display: none;\n",
              "    fill: var(--fill-color);\n",
              "    height: 32px;\n",
              "    padding: 0;\n",
              "    width: 32px;\n",
              "  }\n",
              "\n",
              "  .colab-df-quickchart:hover {\n",
              "    background-color: var(--hover-bg-color);\n",
              "    box-shadow: 0 1px 2px rgba(60, 64, 67, 0.3), 0 1px 3px 1px rgba(60, 64, 67, 0.15);\n",
              "    fill: var(--button-hover-fill-color);\n",
              "  }\n",
              "\n",
              "  .colab-df-quickchart-complete:disabled,\n",
              "  .colab-df-quickchart-complete:disabled:hover {\n",
              "    background-color: var(--disabled-bg-color);\n",
              "    fill: var(--disabled-fill-color);\n",
              "    box-shadow: none;\n",
              "  }\n",
              "\n",
              "  .colab-df-spinner {\n",
              "    border: 2px solid var(--fill-color);\n",
              "    border-color: transparent;\n",
              "    border-bottom-color: var(--fill-color);\n",
              "    animation:\n",
              "      spin 1s steps(1) infinite;\n",
              "  }\n",
              "\n",
              "  @keyframes spin {\n",
              "    0% {\n",
              "      border-color: transparent;\n",
              "      border-bottom-color: var(--fill-color);\n",
              "      border-left-color: var(--fill-color);\n",
              "    }\n",
              "    20% {\n",
              "      border-color: transparent;\n",
              "      border-left-color: var(--fill-color);\n",
              "      border-top-color: var(--fill-color);\n",
              "    }\n",
              "    30% {\n",
              "      border-color: transparent;\n",
              "      border-left-color: var(--fill-color);\n",
              "      border-top-color: var(--fill-color);\n",
              "      border-right-color: var(--fill-color);\n",
              "    }\n",
              "    40% {\n",
              "      border-color: transparent;\n",
              "      border-right-color: var(--fill-color);\n",
              "      border-top-color: var(--fill-color);\n",
              "    }\n",
              "    60% {\n",
              "      border-color: transparent;\n",
              "      border-right-color: var(--fill-color);\n",
              "    }\n",
              "    80% {\n",
              "      border-color: transparent;\n",
              "      border-right-color: var(--fill-color);\n",
              "      border-bottom-color: var(--fill-color);\n",
              "    }\n",
              "    90% {\n",
              "      border-color: transparent;\n",
              "      border-bottom-color: var(--fill-color);\n",
              "    }\n",
              "  }\n",
              "</style>\n",
              "\n",
              "  <script>\n",
              "    async function quickchart(key) {\n",
              "      const quickchartButtonEl =\n",
              "        document.querySelector('#' + key + ' button');\n",
              "      quickchartButtonEl.disabled = true;  // To prevent multiple clicks.\n",
              "      quickchartButtonEl.classList.add('colab-df-spinner');\n",
              "      try {\n",
              "        const charts = await google.colab.kernel.invokeFunction(\n",
              "            'suggestCharts', [key], {});\n",
              "      } catch (error) {\n",
              "        console.error('Error during call to suggestCharts:', error);\n",
              "      }\n",
              "      quickchartButtonEl.classList.remove('colab-df-spinner');\n",
              "      quickchartButtonEl.classList.add('colab-df-quickchart-complete');\n",
              "    }\n",
              "    (() => {\n",
              "      let quickchartButtonEl =\n",
              "        document.querySelector('#df-e0a085a5-c637-4c42-a582-28ccc6a5adda button');\n",
              "      quickchartButtonEl.style.display =\n",
              "        google.colab.kernel.accessAllowed ? 'block' : 'none';\n",
              "    })();\n",
              "  </script>\n",
              "</div>\n",
              "\n",
              "    </div>\n",
              "  </div>\n"
            ],
            "text/plain": [
              "                                                    title   text  \\\n",
              "count                                               44897  44897   \n",
              "unique                                              38728  38645   \n",
              "top     Factbox: Trump fills top jobs for his administ...          \n",
              "freq                                                   14    627   \n",
              "mean                                                  NaN    NaN   \n",
              "std                                                   NaN    NaN   \n",
              "min                                                   NaN    NaN   \n",
              "25%                                                   NaN    NaN   \n",
              "50%                                                   NaN    NaN   \n",
              "75%                                                   NaN    NaN   \n",
              "max                                                   NaN    NaN   \n",
              "\n",
              "             subject                date         label  \n",
              "count          44897               44897  44897.000000  \n",
              "unique             8                2397           NaN  \n",
              "top     politicsNews  December 20, 2017            NaN  \n",
              "freq           11271                 182           NaN  \n",
              "mean             NaN                 NaN      0.522997  \n",
              "std              NaN                 NaN      0.499476  \n",
              "min              NaN                 NaN      0.000000  \n",
              "25%              NaN                 NaN      0.000000  \n",
              "50%              NaN                 NaN      1.000000  \n",
              "75%              NaN                 NaN      1.000000  \n",
              "max              NaN                 NaN      1.000000  "
            ]
          },
          "execution_count": 8,
          "metadata": {},
          "output_type": "execute_result"
        }
      ],
      "source": [
        "df.describe(include='all')"
      ]
    },
    {
      "cell_type": "markdown",
      "metadata": {
        "id": "DJ8bSsC-Ziok"
      },
      "source": [
        "**Missing Value Handeling**"
      ]
    },
    {
      "cell_type": "code",
      "execution_count": null,
      "metadata": {
        "colab": {
          "base_uri": "https://localhost:8080/",
          "height": 241
        },
        "id": "OuVCZD1nZRpa",
        "outputId": "fc5bc2f7-e77d-4bc8-b3de-707f5cdb1a45"
      },
      "outputs": [
        {
          "data": {
            "text/html": [
              "<div>\n",
              "<style scoped>\n",
              "    .dataframe tbody tr th:only-of-type {\n",
              "        vertical-align: middle;\n",
              "    }\n",
              "\n",
              "    .dataframe tbody tr th {\n",
              "        vertical-align: top;\n",
              "    }\n",
              "\n",
              "    .dataframe thead th {\n",
              "        text-align: right;\n",
              "    }\n",
              "</style>\n",
              "<table border=\"1\" class=\"dataframe\">\n",
              "  <thead>\n",
              "    <tr style=\"text-align: right;\">\n",
              "      <th></th>\n",
              "      <th>0</th>\n",
              "    </tr>\n",
              "  </thead>\n",
              "  <tbody>\n",
              "    <tr>\n",
              "      <th>title</th>\n",
              "      <td>0</td>\n",
              "    </tr>\n",
              "    <tr>\n",
              "      <th>text</th>\n",
              "      <td>0</td>\n",
              "    </tr>\n",
              "    <tr>\n",
              "      <th>subject</th>\n",
              "      <td>0</td>\n",
              "    </tr>\n",
              "    <tr>\n",
              "      <th>date</th>\n",
              "      <td>0</td>\n",
              "    </tr>\n",
              "    <tr>\n",
              "      <th>label</th>\n",
              "      <td>0</td>\n",
              "    </tr>\n",
              "  </tbody>\n",
              "</table>\n",
              "</div><br><label><b>dtype:</b> int64</label>"
            ],
            "text/plain": [
              "title      0\n",
              "text       0\n",
              "subject    0\n",
              "date       0\n",
              "label      0\n",
              "dtype: int64"
            ]
          },
          "execution_count": 9,
          "metadata": {},
          "output_type": "execute_result"
        }
      ],
      "source": [
        "df.isnull().sum()"
      ]
    },
    {
      "cell_type": "markdown",
      "metadata": {
        "id": "YS-Zej64Zuvk"
      },
      "source": [
        "**Text Preprocessing**"
      ]
    },
    {
      "cell_type": "code",
      "execution_count": null,
      "metadata": {
        "id": "eTTGD9W5Zp_j"
      },
      "outputs": [],
      "source": [
        "import nltk\n",
        "import re\n",
        "from nltk import word_tokenize\n",
        "from nltk.corpus import stopwords\n",
        "from nltk.stem import WordNetLemmatizer"
      ]
    },
    {
      "cell_type": "code",
      "execution_count": null,
      "metadata": {
        "colab": {
          "base_uri": "https://localhost:8080/"
        },
        "id": "4u6fRdN4aMZX",
        "outputId": "e82e8f26-b870-4b76-a7c7-aa89003ca8b9"
      },
      "outputs": [
        {
          "name": "stderr",
          "output_type": "stream",
          "text": [
            "[nltk_data] Downloading package punkt to /root/nltk_data...\n",
            "[nltk_data]   Unzipping tokenizers/punkt.zip.\n",
            "[nltk_data] Downloading package wordnet to /root/nltk_data...\n",
            "[nltk_data] Downloading package stopwords to /root/nltk_data...\n",
            "[nltk_data]   Unzipping corpora/stopwords.zip.\n"
          ]
        },
        {
          "data": {
            "text/plain": [
              "True"
            ]
          },
          "execution_count": 11,
          "metadata": {},
          "output_type": "execute_result"
        }
      ],
      "source": [
        "nltk.download('punkt')\n",
        "nltk.download('wordnet')\n",
        "nltk.download('stopwords')"
      ]
    },
    {
      "cell_type": "code",
      "execution_count": null,
      "metadata": {
        "id": "ouQsnEdpaZOd"
      },
      "outputs": [],
      "source": [
        "lemmatizer = WordNetLemmatizer()"
      ]
    },
    {
      "cell_type": "code",
      "execution_count": null,
      "metadata": {
        "id": "Sq6DMLke2rSs"
      },
      "outputs": [],
      "source": [
        "def clean_text(text):\n",
        "    text = text.lower()\n",
        "    text = re.sub('[^a-zA-Z0-9]',' ',text)\n",
        "    text = word_tokenize(text)\n",
        "    text = [word for word in text if word not in stopwords.words('english')]\n",
        "    text = [lemmatizer.lemmatize(word) for word in text]\n",
        "    text = ' '.join(text)\n",
        "    return text"
      ]
    },
    {
      "cell_type": "code",
      "execution_count": null,
      "metadata": {
        "colab": {
          "base_uri": "https://localhost:8080/",
          "height": 139
        },
        "id": "HtIxlEwIaAmq",
        "outputId": "bf2e9502-814e-4de1-9d55-bfd27c324101"
      },
      "outputs": [
        {
          "data": {
            "application/vnd.google.colaboratory.intrinsic+json": {
              "type": "string"
            },
            "text/plain": [
              "'washington reuters transgender people allowed first time enlist u military starting monday ordered federal court pentagon said friday president donald trump administration decided appeal ruling blocked transgender ban two federal appeal court one washington one virginia last week rejected administration request put hold order lower court judge requiring military begin accepting transgender recruit jan 1 justice department official said administration challenge ruling department defense announced releasing independent study issue coming week rather litigate interim appeal occurs administration decided wait dod study continue defend president lawful authority district court meantime official said speaking condition anonymity september pentagon said created panel senior official study implement directive trump prohibit transgender individual serving defense department feb 21 submit plan trump lawyer representing currently serving transgender service member aspiring recruit said expected administration appeal ruling conservative majority supreme court hoping would happen pentagon spokeswoman heather babb said statement mandated court order department defense prepared begin accessing transgender applicant military service jan 1 applicant must meet accession standard jennifer levi lawyer gay lesbian transgender advocacy group glad called decision appeal great news hoping mean government come see way justify ban good military country levi said glad american civil liberty union represent plaintiff lawsuit filed administration move appealed hard line conservative supporter trump announced july would prohibit transgender people serving military reversing democratic president barack obama policy accepting trump said twitter time military burdened tremendous medical cost disruption transgender military would entail four federal judge baltimore washington c seattle riverside california issued ruling blocking trump ban legal challenge republican president policy proceed judge said ban would likely violate right u constitution equal protection law pentagon dec 8 issued guideline recruitment personnel order enlist transgender applicant jan 1 memo outlined medical requirement specified applicant sex would identified even undergarment would wear trump administration previously said legal paper armed force prepared train thousand personnel medical standard needed process transgender applicant might accept individual medically fit service obama administration set deadline july 1 2017 begin accepting transgender recruit trump defense secretary james mattis postponed date jan 1 2018 president ban put indefinitely trump taken step aimed rolling back transgender right october administration said federal law banning gender based workplace discrimination protect transgender employee reversing another obama era position february trump rescinded guidance issued obama administration saying public school allow transgender student use restroom corresponds gender identity'"
            ]
          },
          "execution_count": 14,
          "metadata": {},
          "output_type": "execute_result"
        }
      ],
      "source": [
        "clean_text(df['text'][1])"
      ]
    },
    {
      "cell_type": "code",
      "execution_count": null,
      "metadata": {
        "id": "xmNmJuR_Fe4v"
      },
      "outputs": [],
      "source": [
        "true_df2 = true_df[['text','label']][:1000]\n",
        "fake_df2 = fake_df[['text','label']][:1000]"
      ]
    },
    {
      "cell_type": "code",
      "execution_count": null,
      "metadata": {
        "id": "7DHEgZdtFwfS"
      },
      "outputs": [],
      "source": [
        "df = pd.concat([true_df2,fake_df2],ignore_index=True)"
      ]
    },
    {
      "cell_type": "code",
      "execution_count": null,
      "metadata": {
        "colab": {
          "base_uri": "https://localhost:8080/"
        },
        "id": "pkeJhk5rFzvW",
        "outputId": "cb173823-b192-45dc-ce02-911a62183d1a"
      },
      "outputs": [
        {
          "data": {
            "text/plain": [
              "(2000, 2)"
            ]
          },
          "execution_count": 28,
          "metadata": {},
          "output_type": "execute_result"
        }
      ],
      "source": [
        "df.shape"
      ]
    },
    {
      "cell_type": "code",
      "execution_count": null,
      "metadata": {
        "id": "Nxc793S8FzsG"
      },
      "outputs": [],
      "source": [
        "df['clean_text'] = df['text'].apply(clean_text)"
      ]
    },
    {
      "cell_type": "markdown",
      "metadata": {
        "id": "iJXANXOf30Hc"
      },
      "source": [
        "**EDA**"
      ]
    },
    {
      "cell_type": "code",
      "execution_count": null,
      "metadata": {
        "id": "_LaDXVif3vdP"
      },
      "outputs": [],
      "source": [
        "import matplotlib.pyplot as plt\n",
        "import seaborn as sns"
      ]
    },
    {
      "cell_type": "code",
      "execution_count": null,
      "metadata": {
        "colab": {
          "base_uri": "https://localhost:8080/",
          "height": 472
        },
        "id": "R_FVU19L3JbT",
        "outputId": "fd298b68-d577-444e-bab6-850650d852d6"
      },
      "outputs": [
        {
          "data": {
            "image/png": "[encoded data removed]",
            "text/plain": [
              "<Figure size 640x480 with 1 Axes>"
            ]
          },
          "metadata": {},
          "output_type": "display_data"
        }
      ],
      "source": [
        "sns.countplot(x='label', data=df)\n",
        "plt.xlabel('Label')\n",
        "plt.ylabel('Count')\n",
        "plt.title('Distribution of Fake vs Real News')\n",
        "plt.show()"
      ]
    },
    {
      "cell_type": "markdown",
      "metadata": {
        "id": "CFJEDkmvGoN2"
      },
      "source": [
        "**Text Vectorization**"
      ]
    },
    {
      "cell_type": "code",
      "execution_count": null,
      "metadata": {
        "id": "YW_HSoHuG_Wa"
      },
      "outputs": [],
      "source": [
        "final = df[['clean_text','label']]"
      ]
    },
    {
      "cell_type": "code",
      "execution_count": null,
      "metadata": {
        "id": "k_BgDQn9LDz5"
      },
      "outputs": [],
      "source": [
        "from gensim.models import Word2Vec\n",
        "from gensim.utils import simple_preprocess\n",
        "from nltk.tokenize import word_tokenize\n",
        "import numpy as np"
      ]
    },
    {
      "cell_type": "code",
      "execution_count": null,
      "metadata": {
        "id": "CuVhWbbfMUuF"
      },
      "outputs": [],
      "source": [
        "words = []\n",
        "\n",
        "for sentence in final['clean_text']:\n",
        "    words.append(word_tokenize(sentence))"
      ]
    },
    {
      "cell_type": "code",
      "execution_count": null,
      "metadata": {
        "id": "CLwh02VrNaqK"
      },
      "outputs": [],
      "source": [
        "model = gensim.models.Word2Vec(words,min_count=1,vector_size=300,window=5,epochs=10)"
      ]
    },
    {
      "cell_type": "code",
      "execution_count": null,
      "metadata": {
        "colab": {
          "base_uri": "https://localhost:8080/"
        },
        "id": "KLZBPyEHNut2",
        "outputId": "47966e4c-a736-4682-d9c6-435b6226af45"
      },
      "outputs": [
        {
          "name": "stdout",
          "output_type": "stream",
          "text": [
            "VOC Size : 24616\n"
          ]
        }
      ],
      "source": [
        "print(\"VOC Size :\",len(model.wv.index_to_key))"
      ]
    },
    {
      "cell_type": "code",
      "execution_count": null,
      "metadata": {
        "colab": {
          "base_uri": "https://localhost:8080/"
        },
        "id": "OsrSimyBN5En",
        "outputId": "08246474-de24-4cff-b8bf-e086328d50d1"
      },
      "outputs": [
        {
          "name": "stdout",
          "output_type": "stream",
          "text": [
            "Corpus Size : 2000\n"
          ]
        }
      ],
      "source": [
        "print(\"Corpus Size :\",model.corpus_count)"
      ]
    },
    {
      "cell_type": "code",
      "execution_count": null,
      "metadata": {
        "colab": {
          "base_uri": "https://localhost:8080/"
        },
        "id": "gcSuuZOtOrOM",
        "outputId": "eb362a52-97db-4354-8f0d-d9d1091be503"
      },
      "outputs": [
        {
          "data": {
            "text/plain": [
              "[('bewilderment', 0.7517877221107483),\n",
              " ('resurfacing', 0.7333138585090637),\n",
              " ('rankle', 0.7080676555633545),\n",
              " ('contributes', 0.6663614511489868),\n",
              " ('assortment', 0.6451172232627869),\n",
              " ('frantic', 0.6351990103721619),\n",
              " ('crestfallen', 0.6335228681564331),\n",
              " ('peculiar', 0.6328276991844177),\n",
              " ('saga', 0.6249517798423767),\n",
              " ('president', 0.6235342621803284)]"
            ]
          },
          "execution_count": 76,
          "metadata": {},
          "output_type": "execute_result"
        }
      ],
      "source": [
        "model.wv.most_similar('trump')"
      ]
    },
    {
      "cell_type": "code",
      "execution_count": null,
      "metadata": {
        "colab": {
          "base_uri": "https://localhost:8080/"
        },
        "id": "KrgUlBQxPLJH",
        "outputId": "d9b61ac5-6fdc-45aa-c40b-5da598236bc3"
      },
      "outputs": [
        {
          "data": {
            "text/plain": [
              "(300,)"
            ]
          },
          "execution_count": 78,
          "metadata": {},
          "output_type": "execute_result"
        }
      ],
      "source": [
        "model.wv['trump'].shape"
      ]
    },
    {
      "cell_type": "code",
      "execution_count": null,
      "metadata": {
        "id": "SSFB29PvPQLs"
      },
      "outputs": [],
      "source": [
        "def AvgWord2Vec(docs):\n",
        "  return np.mean([model.wv[word] for word in docs if word in model.wv],axis=0)"
      ]
    },
    {
      "cell_type": "code",
      "execution_count": null,
      "metadata": {
        "colab": {
          "base_uri": "https://localhost:8080/",
          "height": 139
        },
        "id": "hFMd7c4eQCWu",
        "outputId": "9f84d692-3577-423f-c405-1a7103d64d27"
      },
      "outputs": [
        {
          "data": {
            "application/vnd.google.colaboratory.intrinsic+json": {
              "type": "string"
            },
            "text/plain": [
              "'washington reuters head conservative republican faction u congress voted month huge expansion national debt pay tax cut called fiscal conservative sunday urged budget restraint 2018 keeping sharp pivot way among republican u representative mark meadow speaking cbs face nation drew hard line federal spending lawmaker bracing battle january return holiday wednesday lawmaker begin trying pas federal budget fight likely linked issue immigration policy even november congressional election campaign approach republican seek keep control congress president donald trump republican want big budget increase military spending democrat also want proportional increase non defense discretionary spending program support education scientific research infrastructure public health environmental protection trump administration already willing say going increase non defense discretionary spending 7 percent meadow chairman small influential house freedom caucus said program democrat saying enough need give government pay raise 10 11 percent fiscal conservative see rationale eventually run people money said meadow among republican voted late december party debt financed tax overhaul expected balloon federal budget deficit add 1 5 trillion 10 year 20 trillion national debt interesting hear mark talk fiscal responsibility democratic u representative joseph crowley said cbs crowley said republican tax bill would require united state borrow 1 5 trillion paid future generation finance tax cut corporation rich one least fiscally responsible bill ever seen passed history house representative think going paying many many year come crowley said republican insist tax package biggest u tax overhaul 30 year boost economy job growth house speaker paul ryan also supported tax bill recently went meadow making clear radio interview welfare entitlement reform party often call would top republican priority 2018 republican parlance entitlement program mean food stamp housing assistance medicare medicaid health insurance elderly poor disabled well program created washington assist needy democrat seized ryan early december remark saying showed republican would try pay tax overhaul seeking spending cut social program goal house republican may take back seat senate vote democrat needed approve budget prevent government shutdown democrat use leverage senate republican narrowly control defend discretionary non defense program social spending tackling issue dreamer people brought illegally country child trump september put march 2018 expiration date deferred action childhood arrival daca program protects young immigrant deportation provides work permit president said recent twitter message want funding proposed mexican border wall immigration law change exchange agreeing help dreamer representative debbie dingell told cbs favor linking issue policy objective wall funding need daca clean said wednesday trump aide meet congressional leader discus issue followed weekend strategy session trump republican leader jan 6 7 white house said trump also scheduled meet sunday florida republican governor rick scott want emergency aid house passed 81 billion aid package hurricane florida texas puerto rico wildfire california package far exceeded 44 billion requested trump administration senate yet voted aid'"
            ]
          },
          "execution_count": 81,
          "metadata": {},
          "output_type": "execute_result"
        }
      ],
      "source": [
        "df['clean_text'][0]"
      ]
    },
    {
      "cell_type": "code",
      "execution_count": null,
      "metadata": {
        "colab": {
          "base_uri": "https://localhost:8080/"
        },
        "id": "Z7oNNVdmQET0",
        "outputId": "bab52318-9298-483d-fa67-61cd19932ec6"
      },
      "outputs": [
        {
          "data": {
            "text/plain": [
              "array([-3.99506241e-02,  6.22557942e-03, -3.35889496e-02,  9.14445892e-02,\n",
              "        2.26260766e-01, -2.94916958e-01,  1.93178415e-01,  3.06768835e-01,\n",
              "        1.50851548e-01, -1.12830058e-01, -9.23019350e-02, -6.66990429e-02,\n",
              "       -1.25687599e-01, -1.03201739e-01, -1.81936681e-01, -5.75750321e-02,\n",
              "       -2.16437340e-01, -1.49357796e-01,  2.98576981e-01, -2.91167051e-01,\n",
              "       -7.90321156e-02,  6.34215325e-02,  2.71120667e-01, -1.25070617e-01,\n",
              "        3.70319992e-01,  7.77472742e-03, -7.26823136e-02, -1.45023048e-01,\n",
              "       -2.67612636e-01,  4.88390587e-02,  1.99166700e-01, -1.04707345e-01,\n",
              "       -1.12775922e-01,  1.83218986e-01, -1.24819987e-01,  1.02510862e-01,\n",
              "       -6.37246370e-02, -3.63997132e-01, -5.68401739e-02, -1.46413878e-01,\n",
              "       -1.05283812e-01,  1.44820511e-01,  2.64751375e-01, -5.39429188e-01,\n",
              "        7.46735856e-02,  3.52822155e-01,  5.83943129e-02,  6.44970834e-02,\n",
              "       -1.18128911e-01,  3.82210463e-01, -5.81741147e-02, -2.52118334e-02,\n",
              "       -1.12013519e-01,  1.74818020e-02, -3.92003842e-02,  3.00264597e-01,\n",
              "        3.33934218e-01, -2.26822328e-02, -5.59654124e-02, -1.29907951e-01,\n",
              "       -1.92865089e-01, -7.57160708e-02, -3.72561887e-02, -2.33830158e-02,\n",
              "       -8.13579708e-02,  4.98062521e-02, -1.67679459e-01, -1.84731588e-01,\n",
              "       -1.32562950e-01, -1.02938563e-01, -1.62694633e-01,  6.33406714e-02,\n",
              "        5.06194085e-02, -1.87991217e-01,  4.58735488e-02, -1.52949736e-01,\n",
              "       -4.29039657e-01, -1.03456855e-01, -2.84641385e-01,  1.44214109e-01,\n",
              "        1.55980945e-01, -1.86845914e-01,  2.34417655e-02,  3.76535654e-01,\n",
              "       -3.94114740e-02,  6.65284917e-02, -7.00765550e-02, -7.95947909e-02,\n",
              "       -3.41688283e-02, -2.27825344e-02,  2.63990704e-02, -1.08705521e-01,\n",
              "       -9.86405537e-02,  2.00147051e-02,  2.12754145e-01,  7.85405263e-02,\n",
              "        1.37304276e-01, -2.08081052e-01, -2.81114042e-01,  3.26642990e-01,\n",
              "       -1.03993289e-01, -1.06782004e-01,  1.11361615e-01, -1.80676803e-01,\n",
              "        3.85813341e-02, -2.02738792e-02, -3.83959152e-02, -3.28482360e-01,\n",
              "       -2.34855652e-01,  1.73807964e-01, -2.01705933e-01, -6.13632128e-02,\n",
              "        2.29125947e-01,  1.73702717e-01,  1.90089732e-01, -1.04238547e-01,\n",
              "       -2.09283248e-01,  1.34728462e-01,  1.69414207e-01, -2.68770516e-01,\n",
              "        1.81520134e-01,  1.04243331e-01,  1.08828977e-01, -9.00019109e-02,\n",
              "       -3.82206813e-02, -3.48597243e-02,  1.58241555e-01, -6.71675205e-02,\n",
              "       -2.77018756e-01, -4.62103598e-02,  8.45155045e-02,  3.22055429e-01,\n",
              "        5.72324218e-03,  4.11152234e-03, -2.98375729e-02,  2.42748298e-02,\n",
              "       -1.56997085e-01,  1.70949008e-02, -2.29940668e-01, -1.31076634e-01,\n",
              "       -3.88194877e-03, -2.57069785e-02,  1.09270997e-02, -4.49595191e-02,\n",
              "        1.40276611e-01,  2.01613680e-02, -2.46596262e-01, -3.54405046e-02,\n",
              "       -1.14373259e-01, -1.14152327e-01, -5.98884076e-02, -3.88263941e-01,\n",
              "       -3.02956998e-01, -3.80466044e-01, -9.00460407e-02,  1.45314023e-01,\n",
              "       -2.94392258e-01, -1.38619155e-01,  5.72011694e-02,  2.12849855e-01,\n",
              "        2.56740928e-01,  8.61811265e-02, -1.99102849e-01,  3.13434958e-01,\n",
              "       -1.68957487e-01, -1.42867506e-01,  1.79405734e-01, -1.59690782e-01,\n",
              "        5.41270301e-02,  2.17692524e-01,  3.53017926e-01, -5.27143963e-02,\n",
              "        2.74884645e-02, -8.70410874e-02, -1.23711646e-01,  1.09764524e-01,\n",
              "        1.61187798e-02, -5.46270907e-02, -1.17779806e-01, -2.23343164e-01,\n",
              "       -1.38331473e-01,  2.24096030e-02, -1.24476053e-01, -5.90949655e-02,\n",
              "        3.21352296e-02,  5.35048656e-02,  2.75634110e-01,  7.76975676e-02,\n",
              "        1.61561593e-01, -2.44247213e-01,  1.69491395e-01, -2.17820898e-01,\n",
              "       -1.18642874e-01,  1.27648190e-01,  7.60917291e-02, -1.91450670e-01,\n",
              "        4.11869064e-02, -2.21976086e-01,  1.78985432e-01, -1.97034497e-02,\n",
              "       -4.41635177e-02,  4.02514386e-04,  1.05875246e-01, -5.05092703e-02,\n",
              "       -1.15263946e-01, -1.81290418e-01,  1.99212376e-02,  1.92555904e-01,\n",
              "        1.09443136e-01,  6.63435012e-02,  4.67373617e-02, -2.05403954e-01,\n",
              "       -1.71143055e-01, -1.43530920e-01, -1.15352564e-01, -9.67784226e-02,\n",
              "       -2.11976051e-01, -4.74127889e-01, -3.06115031e-01, -1.77365214e-01,\n",
              "       -7.65800998e-02,  8.31327364e-02,  8.06400105e-02,  4.31838296e-02,\n",
              "       -1.37792021e-01,  2.77604222e-01, -1.44074082e-01, -4.22116928e-02,\n",
              "       -3.10610831e-01, -3.28987800e-02, -2.80466583e-02, -9.86481830e-02,\n",
              "        6.78836880e-03,  3.98726046e-01,  3.88225541e-02,  7.67792091e-02,\n",
              "        1.08738884e-01, -7.63138309e-02, -7.55998585e-03, -5.73127627e-01,\n",
              "       -1.37035191e-01, -1.94671124e-01, -3.63854915e-01, -1.36299774e-01,\n",
              "        1.04629666e-01, -2.49005362e-01, -4.02860567e-02,  1.36855185e-01,\n",
              "       -1.68015972e-01,  1.81987792e-01, -2.43010312e-01,  2.24857125e-02,\n",
              "       -7.23772720e-02, -4.51889681e-03, -1.86129287e-01,  1.58552844e-02,\n",
              "        4.30791587e-01,  7.30962399e-03, -7.55243376e-02, -2.43173718e-01,\n",
              "        1.40014589e-01,  1.43508568e-01, -4.04103547e-02, -1.16238013e-01,\n",
              "       -1.59677729e-01,  2.57465290e-03,  1.06393673e-01,  8.77123922e-02,\n",
              "        4.01181839e-02, -6.45994097e-02, -2.73822457e-01, -1.53573966e-02,\n",
              "        3.83699866e-04, -1.68274641e-02,  1.95289165e-01, -6.25693724e-02,\n",
              "       -7.01974109e-02, -1.19609036e-01, -1.16176985e-01, -8.01985860e-02,\n",
              "        3.27260047e-01,  1.40079781e-01,  4.49479111e-02, -1.87676445e-01,\n",
              "        2.21071765e-01, -2.54596263e-01, -1.69705749e-01,  2.59941295e-02,\n",
              "       -1.62430201e-02,  9.51018035e-02, -9.57112666e-03,  1.76483527e-01,\n",
              "        2.22893998e-01,  7.46359974e-02,  1.66679546e-01,  1.51797384e-01,\n",
              "        1.51006550e-01,  2.94937175e-02, -6.25592098e-02, -3.72564942e-02],\n",
              "      dtype=float32)"
            ]
          },
          "execution_count": 84,
          "metadata": {},
          "output_type": "execute_result"
        }
      ],
      "source": [
        "AvgWord2Vec(final['clean_text'][0])"
      ]
    },
    {
      "cell_type": "code",
      "execution_count": null,
      "metadata": {
        "id": "ywCDe3UOQKsq"
      },
      "outputs": [],
      "source": [
        "df['vector'] = df['clean_text'].apply(AvgWord2Vec)"
      ]
    },
    {
      "cell_type": "code",
      "execution_count": null,
      "metadata": {
        "colab": {
          "base_uri": "https://localhost:8080/",
          "height": 80
        },
        "id": "v-rS2QF_QVq_",
        "outputId": "39320c4b-9aa0-4ba4-8771-e1dba98286b7"
      },
      "outputs": [
        {
          "data": {
            "application/vnd.google.colaboratory.intrinsic+json": {
              "summary": "{\n  \"name\": \"df\",\n  \"rows\": 2000,\n  \"fields\": [\n    {\n      \"column\": \"text\",\n      \"properties\": {\n        \"dtype\": \"string\",\n        \"num_unique_values\": 1993,\n        \"samples\": [\n          \"WASHINGTON (Reuters) - U.S. President Donald Trump on Thursday eased off his earlier call to send the suspect in this week\\u0019s truck attack in New York City to the military prison in Guantanamo Bay, but stood by his comments that the alleged attacker should get the death penalty. \\u001cWould love to send the NYC terrorist to Guantanamo but statistically that process takes much longer than going through the Federal system,\\u001d Trump wrote in a pair of posts on Twitter. \\u001cThere is also something appropriate about keeping him in the home of the horrible crime he committed. Should move fast. DEATH PENALTY!\\u001d \",\n          \"Donald Trump has successfully torn the Republican Party (and America) apart. His policies have not only divided Americans across the country, but even members of his own party are at odds with their president s policies.One thing that is shattering the GOP is the growing opposition to Trump s immigration agenda. During Trump s campaign and budding presidency, Trump was touting a border wall and mass deportations. Now that Trump has announced somewhat more concrete plans, some high profile Republicans are publicly voicing their disappointment.One of the most outspoken GOPers going up against Trump is South Carolina Senator Lindsey Graham, who is warning Trump that his merit-based immigration plan would be a  disaster  for states like South Carolina. Graham said in a statement: After dealing with this issue for more than a decade, I know that when you restrict legal labor to employers it incentivizes cheating. Here s Trump announcing his merit-based system, called the RAISE Act:I campaigned on creating a merit-based immigration system that protects U.S. workers & taxpayers. Watch: https://t.co/lv3ScSKnF6 #RAISEAct pic.twitter.com/zCFK5OfYnB  Donald J. Trump (@realDonaldTrump) August 2, 2017Since Trump announced the RAISE Act on Tuesday, it has been opposed by several Democratic lawmakers and several Republicans like Graham. These lawmakers are arguing that Trump s proposed plan puts the service industry  in peril.  Graham explained: South Carolina s number one industry is agriculture and tourism is number two. If this proposal were to become law, it would be devastating to our state s economy which relies on this immigrant workforce. South Carolina s agriculture and tourism industry advertise for American workers and want to fill open positions with American workers. Unfortunately, many of these advertised positions go unfilled. Hotels, restaurants, golf courses and farmers will tell you this proposal to cut legal immigration in half would put their business in peril. Another South Carolina Republican, Tim Scott, also opposed Trump s plans. Scott stated that America needed to fix  our broken illegal immigration problem  but also wanted the country  to encourage the legal process  due to its positive effects on the labor force. Senate Republican Conference Chairman John Thune had similar concerns about the labor workforce. He said: If we get on immigration, there will be a lot of different perspectives on that  We have workforce needs, and some of those are filled by the immigrant labor supply. Unfortunately, this is likely going to fall on deaf ears, considering that the current POTUS was ignorant enough to say in his campaign announcement, When Mexico sends its people, they aren t sending their best.  Trump has been anti-immigration from the start, and he clearly doesn t care if the way he goes about it sucks.Featured image is a screenshot\",\n          \"WASHINGTON (Reuters) - The U.S. Senate on Thursday delayed voting on a Republican tax overhaul as the bill was tripped up by problems with an amendment sought by fiscal hawks to address a large expansion of the federal budget deficit projected to result from the measure. The Senate debated the legislation late into Thursday and adjourned, putting off any votes until Friday morning. It was unclear if a decisive vote on the bill would occur then. The delay underscored nagging concerns among Republican fiscal conservatives about the deficit impact of the bill. That set up the possibility that its deep tax cuts might have to be moderated, that future tax increases might be built in, and that some conservatives might seek to attach spending cuts, all approaches that could throw up new political problems. White House legislative affairs director Marc Short told reporters in the Capitol: \\u001cI don\\u0019t think tax cuts are going to be scaled back. I think it would still be historic tax relief for corporations and for middle-income families.\\u001d  The tax bill is seen by Republicans as crucial to their prospects in the November 2018 elections, when they will fight to keep control of the Senate and the House of Representatives. Since taking office in January, President Donald Trump and  Republicans now in control of Congress have yet to pass major legislation, a fact they hope to change with their proposed tax- code overhaul, which would be the biggest since the 1980s. Democrats, expected to unanimously oppose the tax bill, have dismissed it as a giveaway to the wealthy and corporations. Republican Senator Bob Corker and others had tried to add a provision to the bill to trigger automatic future tax increases if the tax cuts in the bill did not boost the economy and generate revenues sufficient to offset the deficit expansion. But the Senate parliamentarian barred Corker\\u0019s \\u001ctrigger\\u001d proposal on procedural grounds. The trigger amendment was needed to win Corker\\u0019s vote and those of others worried about the deficit - worries that intensified when congressional analysts said the bill would not boost the economy enough to offset the estimated deficit expansion, as the Trump administration had said it would. Senate Finance Committee Chairman Orrin Hatch told reporters in the Capitol that it had not been easy to accommodate Corker, Senator Jeff Flake and other fiscal hawks. \\u001cIt\\u0019s been pretty hard to make them happy so far. We\\u0019re going to keep working on it ... and we\\u0019re going to do it,\\u001d Hatch said. Senate Republicans were considering making a proposed corporate income tax rate cut temporary, instead of permanent, so the rate would rise back to an unknown level after six or seven years, said one Republican senator and an aide. By that time, Trump might no longer be in office and a future Congress might change the law. When asked if the tax bill was in trouble, Republican Senator Mike Rounds told reporters: \\u001cNo, I don\\u0019t think so. It\\u0019s just a matter of once again trying to make the bill work.\\u001d Optimism had reigned earlier in the day, when the bill won the backing of Republican Senator John McCain. Stocks surged on hopes that a key tax overhaul vote was imminent. The S&P 500 hit a record closing high and the Dow Jones industrial average topped the 24,000 mark for the first time. But the Joint Committee on Taxation, or JCT, a nonpartisan fiscal analysis unit of Congress, said the bill as passed earlier by the Senate Finance Committee, would generate only $407 billion in new tax revenue from increased economic growth. JCT had earlier estimated the tax bill would balloon the $20 trillion national debt by $1.4 trillion over 10 years. The new estimate, counting \\u001cdynamic\\u001d economic effects, put the deficit expansion at $1 trillion, far short of assertions by some Republicans that the tax cuts would pay for themselves. House of Representatives Democratic leader Nancy Pelosi said the new JCT estimate showed \\u001cno amount of dynamic scoring fairy dust will fix the catastrophic deficits of the GOP tax scam.\\u001d McCain, a key player in July\\u0019s collapse of a Republican effort to gut Obamacare, backed the tax bill. While \\u001cfar from perfect,\\u001d the party\\u0019s 2008 presidential nominee said it would boost the economy and help all Americans. Republican Senator Susan Collins, who also played a role in the failure of the Obamacare rollback, told reporters she was still not committed to the bill. Several Republicans were withholding support while pushing for including a federal deduction for up to $10,000 in state and local property taxes and bigger tax breaks for \\u001cpass-through\\u001d companies, including small businesses. As drafted, the Senate bill would cut the U.S. corporate tax rate to 20 percent from 35 percent after a one-year delay and reduce the tax burden on businesses and individuals, while ending many tax breaks, but would still expand the deficit, Trump wants to enact tax cuts before January. The House approved its own tax bill on Nov. 16. It would have to be merged with the Senate bill, if it is approved, before any final measure could go to Trump for his signature.  Republicans have 52 votes in the 100-member Senate, giving them enough to win if they hold together. With Democrats opposed, Republicans could lose no more than two of their own votes, with Vice President Mike Pence able to break a 50-50 tie. Trump has attacked Corker and Flake on Twitter. Both senators are not seeking re-election. In early October, the president called Corker, \\u001cLiddle\\u0019 Bob Corker\\u001d in a tweet. Corker tweeted that the Trump White House was an \\u001cadult daycare center.\\u001d Days later, he called Trump a liar who had damaged U.S. standing in the world. Trump tweeted back saying Corker \\u001ccouldn\\u0019t get elected dog catcher.\\u001d Trump earlier this month tweeted that Flake\\u0019s political career was \\u0018toast\\u0019\\u001d In a dramatic Senate speech, Flake said U.S. politics had become inured to \\u001creckless, outrageous and undignified\\u001d behavior from the White House. \"\n        ],\n        \"semantic_type\": \"\",\n        \"description\": \"\"\n      }\n    },\n    {\n      \"column\": \"label\",\n      \"properties\": {\n        \"dtype\": \"number\",\n        \"std\": 0,\n        \"min\": 0,\n        \"max\": 1,\n        \"num_unique_values\": 2,\n        \"samples\": [\n          1,\n          0\n        ],\n        \"semantic_type\": \"\",\n        \"description\": \"\"\n      }\n    },\n    {\n      \"column\": \"clean_text\",\n      \"properties\": {\n        \"dtype\": \"string\",\n        \"num_unique_values\": 1993,\n        \"samples\": [\n          \"washington reuters u president donald trump thursday eased earlier call send suspect week truck attack new york city military prison guantanamo bay stood comment alleged attacker get death penalty would love send nyc terrorist guantanamo statistically process take much longer going federal system trump wrote pair post twitter also something appropriate keeping home horrible crime committed move fast death penalty\",\n          \"donald trump successfully torn republican party america apart policy divided american across country even member party odds president policy one thing shattering gop growing opposition trump immigration agenda trump campaign budding presidency trump touting border wall mass deportation trump announced somewhat concrete plan high profile republican publicly voicing disappointment one outspoken gopers going trump south carolina senator lindsey graham warning trump merit based immigration plan would disaster state like south carolina graham said statement dealing issue decade know restrict legal labor employer incentivizes cheating trump announcing merit based system called raise act campaigned creating merit based immigration system protects u worker taxpayer watch http co lv3scsknf6 raiseact pic twitter com zcfk5ofynb donald j trump realdonaldtrump august 2 2017since trump announced raise act tuesday opposed several democratic lawmaker several republican like graham lawmaker arguing trump proposed plan put service industry peril graham explained south carolina number one industry agriculture tourism number two proposal become law would devastating state economy relies immigrant workforce south carolina agriculture tourism industry advertise american worker want fill open position american worker unfortunately many advertised position go unfilled hotel restaurant golf course farmer tell proposal cut legal immigration half would put business peril another south carolina republican tim scott also opposed trump plan scott stated america needed fix broken illegal immigration problem also wanted country encourage legal process due positive effect labor force senate republican conference chairman john thune similar concern labor workforce said get immigration lot different perspective workforce need filled immigrant labor supply unfortunately likely going fall deaf ear considering current potus ignorant enough say campaign announcement mexico sends people sending best trump anti immigration start clearly care way go suck featured image screenshot\"\n        ],\n        \"semantic_type\": \"\",\n        \"description\": \"\"\n      }\n    },\n    {\n      \"column\": \"vector\",\n      \"properties\": {\n        \"dtype\": \"object\",\n        \"semantic_type\": \"\",\n        \"description\": \"\"\n      }\n    }\n  ]\n}",
              "type": "dataframe",
              "variable_name": "df"
            },
            "text/html": [
              "\n",
              "  <div id=\"df-66bb1784-0d07-4809-b635-b95590b2ffe5\" class=\"colab-df-container\">\n",
              "    <div>\n",
              "<style scoped>\n",
              "    .dataframe tbody tr th:only-of-type {\n",
              "        vertical-align: middle;\n",
              "    }\n",
              "\n",
              "    .dataframe tbody tr th {\n",
              "        vertical-align: top;\n",
              "    }\n",
              "\n",
              "    .dataframe thead th {\n",
              "        text-align: right;\n",
              "    }\n",
              "</style>\n",
              "<table border=\"1\" class=\"dataframe\">\n",
              "  <thead>\n",
              "    <tr style=\"text-align: right;\">\n",
              "      <th></th>\n",
              "      <th>text</th>\n",
              "      <th>label</th>\n",
              "      <th>clean_text</th>\n",
              "      <th>vector</th>\n",
              "    </tr>\n",
              "  </thead>\n",
              "  <tbody>\n",
              "    <tr>\n",
              "      <th>0</th>\n",
              "      <td>WASHINGTON (Reuters) - The head of a conservat...</td>\n",
              "      <td>0</td>\n",
              "      <td>washington reuters head conservative republica...</td>\n",
              "      <td>[-0.039950624, 0.0062255794, -0.03358895, 0.09...</td>\n",
              "    </tr>\n",
              "  </tbody>\n",
              "</table>\n",
              "</div>\n",
              "    <div class=\"colab-df-buttons\">\n",
              "\n",
              "  <div class=\"colab-df-container\">\n",
              "    <button class=\"colab-df-convert\" onclick=\"convertToInteractive('df-66bb1784-0d07-4809-b635-b95590b2ffe5')\"\n",
              "            title=\"Convert this dataframe to an interactive table.\"\n",
              "            style=\"display:none;\">\n",
              "\n",
              "  <svg xmlns=\"http://www.w3.org/2000/svg\" height=\"24px\" viewBox=\"0 -960 960 960\">\n",
              "    <path d=\"M120-120v-720h720v720H120Zm60-500h600v-160H180v160Zm220 220h160v-160H400v160Zm0 220h160v-160H400v160ZM180-400h160v-160H180v160Zm440 0h160v-160H620v160ZM180-180h160v-160H180v160Zm440 0h160v-160H620v160Z\"/>\n",
              "  </svg>\n",
              "    </button>\n",
              "\n",
              "  <style>\n",
              "    .colab-df-container {\n",
              "      display:flex;\n",
              "      gap: 12px;\n",
              "    }\n",
              "\n",
              "    .colab-df-convert {\n",
              "      background-color: #E8F0FE;\n",
              "      border: none;\n",
              "      border-radius: 50%;\n",
              "      cursor: pointer;\n",
              "      display: none;\n",
              "      fill: #1967D2;\n",
              "      height: 32px;\n",
              "      padding: 0 0 0 0;\n",
              "      width: 32px;\n",
              "    }\n",
              "\n",
              "    .colab-df-convert:hover {\n",
              "      background-color: #E2EBFA;\n",
              "      box-shadow: 0px 1px 2px rgba(60, 64, 67, 0.3), 0px 1px 3px 1px rgba(60, 64, 67, 0.15);\n",
              "      fill: #174EA6;\n",
              "    }\n",
              "\n",
              "    .colab-df-buttons div {\n",
              "      margin-bottom: 4px;\n",
              "    }\n",
              "\n",
              "    [theme=dark] .colab-df-convert {\n",
              "      background-color: #3B4455;\n",
              "      fill: #D2E3FC;\n",
              "    }\n",
              "\n",
              "    [theme=dark] .colab-df-convert:hover {\n",
              "      background-color: #434B5C;\n",
              "      box-shadow: 0px 1px 3px 1px rgba(0, 0, 0, 0.15);\n",
              "      filter: drop-shadow(0px 1px 2px rgba(0, 0, 0, 0.3));\n",
              "      fill: #FFFFFF;\n",
              "    }\n",
              "  </style>\n",
              "\n",
              "    <script>\n",
              "      const buttonEl =\n",
              "        document.querySelector('#df-66bb1784-0d07-4809-b635-b95590b2ffe5 button.colab-df-convert');\n",
              "      buttonEl.style.display =\n",
              "        google.colab.kernel.accessAllowed ? 'block' : 'none';\n",
              "\n",
              "      async function convertToInteractive(key) {\n",
              "        const element = document.querySelector('#df-66bb1784-0d07-4809-b635-b95590b2ffe5');\n",
              "        const dataTable =\n",
              "          await google.colab.kernel.invokeFunction('convertToInteractive',\n",
              "                                                    [key], {});\n",
              "        if (!dataTable) return;\n",
              "\n",
              "        const docLinkHtml = 'Like what you see? Visit the ' +\n",
              "          '<a target=\"_blank\" href=https://colab.research.google.com/notebooks/data_table.ipynb>data table notebook</a>'\n",
              "          + ' to learn more about interactive tables.';\n",
              "        element.innerHTML = '';\n",
              "        dataTable['output_type'] = 'display_data';\n",
              "        await google.colab.output.renderOutput(dataTable, element);\n",
              "        const docLink = document.createElement('div');\n",
              "        docLink.innerHTML = docLinkHtml;\n",
              "        element.appendChild(docLink);\n",
              "      }\n",
              "    </script>\n",
              "  </div>\n",
              "\n",
              "\n",
              "    </div>\n",
              "  </div>\n"
            ],
            "text/plain": [
              "                                                text  label  \\\n",
              "0  WASHINGTON (Reuters) - The head of a conservat...      0   \n",
              "\n",
              "                                          clean_text  \\\n",
              "0  washington reuters head conservative republica...   \n",
              "\n",
              "                                              vector  \n",
              "0  [-0.039950624, 0.0062255794, -0.03358895, 0.09...  "
            ]
          },
          "execution_count": 86,
          "metadata": {},
          "output_type": "execute_result"
        }
      ],
      "source": [
        "df.head(1)"
      ]
    },
    {
      "cell_type": "code",
      "execution_count": null,
      "metadata": {
        "colab": {
          "base_uri": "https://localhost:8080/",
          "height": 112
        },
        "id": "cDodON1iQa0r",
        "outputId": "77e263a3-cace-42ef-e02f-ab260d9f344a"
      },
      "outputs": [
        {
          "data": {
            "application/vnd.google.colaboratory.intrinsic+json": {
              "summary": "{\n  \"name\": \"df[['vector','label']]\",\n  \"rows\": 2,\n  \"fields\": [\n    {\n      \"column\": \"vector\",\n      \"properties\": {\n        \"dtype\": \"object\",\n        \"semantic_type\": \"\",\n        \"description\": \"\"\n      }\n    },\n    {\n      \"column\": \"label\",\n      \"properties\": {\n        \"dtype\": \"number\",\n        \"std\": 0,\n        \"min\": 0,\n        \"max\": 0,\n        \"num_unique_values\": 1,\n        \"samples\": [\n          0\n        ],\n        \"semantic_type\": \"\",\n        \"description\": \"\"\n      }\n    }\n  ]\n}",
              "type": "dataframe"
            },
            "text/html": [
              "\n",
              "  <div id=\"df-e7dc24a9-c59b-4d17-9368-392340deae32\" class=\"colab-df-container\">\n",
              "    <div>\n",
              "<style scoped>\n",
              "    .dataframe tbody tr th:only-of-type {\n",
              "        vertical-align: middle;\n",
              "    }\n",
              "\n",
              "    .dataframe tbody tr th {\n",
              "        vertical-align: top;\n",
              "    }\n",
              "\n",
              "    .dataframe thead th {\n",
              "        text-align: right;\n",
              "    }\n",
              "</style>\n",
              "<table border=\"1\" class=\"dataframe\">\n",
              "  <thead>\n",
              "    <tr style=\"text-align: right;\">\n",
              "      <th></th>\n",
              "      <th>vector</th>\n",
              "      <th>label</th>\n",
              "    </tr>\n",
              "  </thead>\n",
              "  <tbody>\n",
              "    <tr>\n",
              "      <th>0</th>\n",
              "      <td>[-0.039950624, 0.0062255794, -0.03358895, 0.09...</td>\n",
              "      <td>0</td>\n",
              "    </tr>\n",
              "    <tr>\n",
              "      <th>1</th>\n",
              "      <td>[-0.041062716, 0.0034036182, -0.04097341, 0.08...</td>\n",
              "      <td>0</td>\n",
              "    </tr>\n",
              "  </tbody>\n",
              "</table>\n",
              "</div>\n",
              "    <div class=\"colab-df-buttons\">\n",
              "\n",
              "  <div class=\"colab-df-container\">\n",
              "    <button class=\"colab-df-convert\" onclick=\"convertToInteractive('df-e7dc24a9-c59b-4d17-9368-392340deae32')\"\n",
              "            title=\"Convert this dataframe to an interactive table.\"\n",
              "            style=\"display:none;\">\n",
              "\n",
              "  <svg xmlns=\"http://www.w3.org/2000/svg\" height=\"24px\" viewBox=\"0 -960 960 960\">\n",
              "    <path d=\"M120-120v-720h720v720H120Zm60-500h600v-160H180v160Zm220 220h160v-160H400v160Zm0 220h160v-160H400v160ZM180-400h160v-160H180v160Zm440 0h160v-160H620v160ZM180-180h160v-160H180v160Zm440 0h160v-160H620v160Z\"/>\n",
              "  </svg>\n",
              "    </button>\n",
              "\n",
              "  <style>\n",
              "    .colab-df-container {\n",
              "      display:flex;\n",
              "      gap: 12px;\n",
              "    }\n",
              "\n",
              "    .colab-df-convert {\n",
              "      background-color: #E8F0FE;\n",
              "      border: none;\n",
              "      border-radius: 50%;\n",
              "      cursor: pointer;\n",
              "      display: none;\n",
              "      fill: #1967D2;\n",
              "      height: 32px;\n",
              "      padding: 0 0 0 0;\n",
              "      width: 32px;\n",
              "    }\n",
              "\n",
              "    .colab-df-convert:hover {\n",
              "      background-color: #E2EBFA;\n",
              "      box-shadow: 0px 1px 2px rgba(60, 64, 67, 0.3), 0px 1px 3px 1px rgba(60, 64, 67, 0.15);\n",
              "      fill: #174EA6;\n",
              "    }\n",
              "\n",
              "    .colab-df-buttons div {\n",
              "      margin-bottom: 4px;\n",
              "    }\n",
              "\n",
              "    [theme=dark] .colab-df-convert {\n",
              "      background-color: #3B4455;\n",
              "      fill: #D2E3FC;\n",
              "    }\n",
              "\n",
              "    [theme=dark] .colab-df-convert:hover {\n",
              "      background-color: #434B5C;\n",
              "      box-shadow: 0px 1px 3px 1px rgba(0, 0, 0, 0.15);\n",
              "      filter: drop-shadow(0px 1px 2px rgba(0, 0, 0, 0.3));\n",
              "      fill: #FFFFFF;\n",
              "    }\n",
              "  </style>\n",
              "\n",
              "    <script>\n",
              "      const buttonEl =\n",
              "        document.querySelector('#df-e7dc24a9-c59b-4d17-9368-392340deae32 button.colab-df-convert');\n",
              "      buttonEl.style.display =\n",
              "        google.colab.kernel.accessAllowed ? 'block' : 'none';\n",
              "\n",
              "      async function convertToInteractive(key) {\n",
              "        const element = document.querySelector('#df-e7dc24a9-c59b-4d17-9368-392340deae32');\n",
              "        const dataTable =\n",
              "          await google.colab.kernel.invokeFunction('convertToInteractive',\n",
              "                                                    [key], {});\n",
              "        if (!dataTable) return;\n",
              "\n",
              "        const docLinkHtml = 'Like what you see? Visit the ' +\n",
              "          '<a target=\"_blank\" href=https://colab.research.google.com/notebooks/data_table.ipynb>data table notebook</a>'\n",
              "          + ' to learn more about interactive tables.';\n",
              "        element.innerHTML = '';\n",
              "        dataTable['output_type'] = 'display_data';\n",
              "        await google.colab.output.renderOutput(dataTable, element);\n",
              "        const docLink = document.createElement('div');\n",
              "        docLink.innerHTML = docLinkHtml;\n",
              "        element.appendChild(docLink);\n",
              "      }\n",
              "    </script>\n",
              "  </div>\n",
              "\n",
              "\n",
              "<div id=\"df-c4d75bea-343f-497f-8e14-f9d04460fe24\">\n",
              "  <button class=\"colab-df-quickchart\" onclick=\"quickchart('df-c4d75bea-343f-497f-8e14-f9d04460fe24')\"\n",
              "            title=\"Suggest charts\"\n",
              "            style=\"display:none;\">\n",
              "\n",
              "<svg xmlns=\"http://www.w3.org/2000/svg\" height=\"24px\"viewBox=\"0 0 24 24\"\n",
              "     width=\"24px\">\n",
              "    <g>\n",
              "        <path d=\"M19 3H5c-1.1 0-2 .9-2 2v14c0 1.1.9 2 2 2h14c1.1 0 2-.9 2-2V5c0-1.1-.9-2-2-2zM9 17H7v-7h2v7zm4 0h-2V7h2v10zm4 0h-2v-4h2v4z\"/>\n",
              "    </g>\n",
              "</svg>\n",
              "  </button>\n",
              "\n",
              "<style>\n",
              "  .colab-df-quickchart {\n",
              "      --bg-color: #E8F0FE;\n",
              "      --fill-color: #1967D2;\n",
              "      --hover-bg-color: #E2EBFA;\n",
              "      --hover-fill-color: #174EA6;\n",
              "      --disabled-fill-color: #AAA;\n",
              "      --disabled-bg-color: #DDD;\n",
              "  }\n",
              "\n",
              "  [theme=dark] .colab-df-quickchart {\n",
              "      --bg-color: #3B4455;\n",
              "      --fill-color: #D2E3FC;\n",
              "      --hover-bg-color: #434B5C;\n",
              "      --hover-fill-color: #FFFFFF;\n",
              "      --disabled-bg-color: #3B4455;\n",
              "      --disabled-fill-color: #666;\n",
              "  }\n",
              "\n",
              "  .colab-df-quickchart {\n",
              "    background-color: var(--bg-color);\n",
              "    border: none;\n",
              "    border-radius: 50%;\n",
              "    cursor: pointer;\n",
              "    display: none;\n",
              "    fill: var(--fill-color);\n",
              "    height: 32px;\n",
              "    padding: 0;\n",
              "    width: 32px;\n",
              "  }\n",
              "\n",
              "  .colab-df-quickchart:hover {\n",
              "    background-color: var(--hover-bg-color);\n",
              "    box-shadow: 0 1px 2px rgba(60, 64, 67, 0.3), 0 1px 3px 1px rgba(60, 64, 67, 0.15);\n",
              "    fill: var(--button-hover-fill-color);\n",
              "  }\n",
              "\n",
              "  .colab-df-quickchart-complete:disabled,\n",
              "  .colab-df-quickchart-complete:disabled:hover {\n",
              "    background-color: var(--disabled-bg-color);\n",
              "    fill: var(--disabled-fill-color);\n",
              "    box-shadow: none;\n",
              "  }\n",
              "\n",
              "  .colab-df-spinner {\n",
              "    border: 2px solid var(--fill-color);\n",
              "    border-color: transparent;\n",
              "    border-bottom-color: var(--fill-color);\n",
              "    animation:\n",
              "      spin 1s steps(1) infinite;\n",
              "  }\n",
              "\n",
              "  @keyframes spin {\n",
              "    0% {\n",
              "      border-color: transparent;\n",
              "      border-bottom-color: var(--fill-color);\n",
              "      border-left-color: var(--fill-color);\n",
              "    }\n",
              "    20% {\n",
              "      border-color: transparent;\n",
              "      border-left-color: var(--fill-color);\n",
              "      border-top-color: var(--fill-color);\n",
              "    }\n",
              "    30% {\n",
              "      border-color: transparent;\n",
              "      border-left-color: var(--fill-color);\n",
              "      border-top-color: var(--fill-color);\n",
              "      border-right-color: var(--fill-color);\n",
              "    }\n",
              "    40% {\n",
              "      border-color: transparent;\n",
              "      border-right-color: var(--fill-color);\n",
              "      border-top-color: var(--fill-color);\n",
              "    }\n",
              "    60% {\n",
              "      border-color: transparent;\n",
              "      border-right-color: var(--fill-color);\n",
              "    }\n",
              "    80% {\n",
              "      border-color: transparent;\n",
              "      border-right-color: var(--fill-color);\n",
              "      border-bottom-color: var(--fill-color);\n",
              "    }\n",
              "    90% {\n",
              "      border-color: transparent;\n",
              "      border-bottom-color: var(--fill-color);\n",
              "    }\n",
              "  }\n",
              "</style>\n",
              "\n",
              "  <script>\n",
              "    async function quickchart(key) {\n",
              "      const quickchartButtonEl =\n",
              "        document.querySelector('#' + key + ' button');\n",
              "      quickchartButtonEl.disabled = true;  // To prevent multiple clicks.\n",
              "      quickchartButtonEl.classList.add('colab-df-spinner');\n",
              "      try {\n",
              "        const charts = await google.colab.kernel.invokeFunction(\n",
              "            'suggestCharts', [key], {});\n",
              "      } catch (error) {\n",
              "        console.error('Error during call to suggestCharts:', error);\n",
              "      }\n",
              "      quickchartButtonEl.classList.remove('colab-df-spinner');\n",
              "      quickchartButtonEl.classList.add('colab-df-quickchart-complete');\n",
              "    }\n",
              "    (() => {\n",
              "      let quickchartButtonEl =\n",
              "        document.querySelector('#df-c4d75bea-343f-497f-8e14-f9d04460fe24 button');\n",
              "      quickchartButtonEl.style.display =\n",
              "        google.colab.kernel.accessAllowed ? 'block' : 'none';\n",
              "    })();\n",
              "  </script>\n",
              "</div>\n",
              "\n",
              "    </div>\n",
              "  </div>\n"
            ],
            "text/plain": [
              "                                              vector  label\n",
              "0  [-0.039950624, 0.0062255794, -0.03358895, 0.09...      0\n",
              "1  [-0.041062716, 0.0034036182, -0.04097341, 0.08...      0"
            ]
          },
          "execution_count": 89,
          "metadata": {},
          "output_type": "execute_result"
        }
      ],
      "source": [
        "df[['vector','label']].head(2)"
      ]
    },
    {
      "cell_type": "markdown",
      "metadata": {
        "id": "Az6kZK1ZQrQk"
      },
      "source": [
        "**Model Buliding**"
      ]
    },
    {
      "cell_type": "code",
      "execution_count": null,
      "metadata": {
        "id": "PCncXwGpQiOi"
      },
      "outputs": [],
      "source": [
        "from sklearn.model_selection import train_test_split\n",
        "from sklearn.metrics import accuracy_score,precision_score,recall_score,f1_score\n",
        "from sklearn.ensemble import RandomForestClassifier,GradientBoostingClassifier,AdaBoostClassifier"
      ]
    },
    {
      "cell_type": "code",
      "execution_count": null,
      "metadata": {
        "id": "L1yVtVVaQ8_j"
      },
      "outputs": [],
      "source": [
        "x_train,x_test,y_train,y_test = train_test_split(np.stack(df['vector']),df['label'],test_size=0.2,random_state=42)"
      ]
    },
    {
      "cell_type": "code",
      "execution_count": null,
      "metadata": {
        "id": "zGzz6v62SgP1"
      },
      "outputs": [],
      "source": [
        "def ModelBuilding(estimetor,x_train,x_test,y_train,y_test):\n",
        "  model = estimetor()\n",
        "  model.fit(x_train,y_train)\n",
        "  y_pred = model.predict(x_test)\n",
        "  Accuracy_Score = accuracy_score(y_test,y_pred)\n",
        "  Precision_Score = precision_score(y_test,y_pred)\n",
        "  Recall_Score = recall_score(y_test,y_pred)\n",
        "  F1_Score = f1_score(y_test,y_pred)\n",
        "  return Accuracy_Score,Precision_Score,Recall_Score,F1_Score"
      ]
    },
    {
      "cell_type": "code",
      "execution_count": null,
      "metadata": {
        "id": "MV-EAWkoTUAh"
      },
      "outputs": [],
      "source": [
        "Accuracy_Score,Precision_Score,Recall_Score,F1_Score  = ModelBuilding(RandomForestClassifier,x_train,x_test,y_train,y_test)"
      ]
    },
    {
      "cell_type": "code",
      "execution_count": null,
      "metadata": {
        "colab": {
          "base_uri": "https://localhost:8080/"
        },
        "id": "lm7asb2ySNPY",
        "outputId": "f9c20d75-d209-44fd-fc06-f5ae8a6d7815"
      },
      "outputs": [
        {
          "name": "stdout",
          "output_type": "stream",
          "text": [
            "Estimetor : RandomForestClassifier\n",
            "Accuracy Score : 0.765\n",
            "Precision Score : 0.7661691542288557\n",
            "Recall Score : 0.7661691542288557\n",
            "F1 Score : 0.7661691542288557\n"
          ]
        }
      ],
      "source": [
        "print(\"Estimetor :\",'RandomForestClassifier')\n",
        "print(\"Accuracy Score :\",Accuracy_Score)\n",
        "print(\"Precision Score :\",Precision_Score)\n",
        "print(\"Recall Score :\",Recall_Score)\n",
        "print(\"F1 Score :\",F1_Score)"
      ]
    },
    {
      "cell_type": "code",
      "execution_count": null,
      "metadata": {
        "id": "7SlEx7KASZZf"
      },
      "outputs": [],
      "source": [
        "Accuracy_Score,Precision_Score,Recall_Score,F1_Score  = ModelBuilding(GradientBoostingClassifier,x_train,x_test,y_train,y_test)"
      ]
    },
    {
      "cell_type": "code",
      "execution_count": null,
      "metadata": {
        "colab": {
          "base_uri": "https://localhost:8080/"
        },
        "id": "ZLQuZDY-Utt_",
        "outputId": "6dbc8abf-d352-4d5c-ea01-2096765eb6a5"
      },
      "outputs": [
        {
          "name": "stdout",
          "output_type": "stream",
          "text": [
            "Estimetor : GradientBoostingClassifier\n",
            "Accuracy Score : 0.77\n",
            "Precision Score : 0.7823834196891192\n",
            "Recall Score : 0.7512437810945274\n",
            "F1 Score : 0.766497461928934\n"
          ]
        }
      ],
      "source": [
        "print(\"Estimetor :\",'GradientBoostingClassifier')\n",
        "print(\"Accuracy Score :\",Accuracy_Score)\n",
        "print(\"Precision Score :\",Precision_Score)\n",
        "print(\"Recall Score :\",Recall_Score)\n",
        "print(\"F1 Score :\",F1_Score)"
      ]
    },
    {
      "cell_type": "code",
      "execution_count": null,
      "metadata": {
        "colab": {
          "base_uri": "https://localhost:8080/"
        },
        "id": "42vHLAT1U28E",
        "outputId": "90e79aa3-fb4f-452e-bf6b-e02d733741d2"
      },
      "outputs": [
        {
          "name": "stderr",
          "output_type": "stream",
          "text": [
            "/usr/local/lib/python3.10/dist-packages/sklearn/ensemble/_weight_boosting.py:527: FutureWarning: The SAMME.R algorithm (the default) is deprecated and will be removed in 1.6. Use the SAMME algorithm to circumvent this warning.\n",
            "  warnings.warn(\n"
          ]
        }
      ],
      "source": [
        "Accuracy_Score,Precision_Score,Recall_Score,F1_Score  = ModelBuilding(AdaBoostClassifier,x_train,x_test,y_train,y_test)"
      ]
    },
    {
      "cell_type": "code",
      "execution_count": null,
      "metadata": {
        "colab": {
          "base_uri": "https://localhost:8080/"
        },
        "id": "fdi2lMVmU__C",
        "outputId": "faa5385f-bf21-4f97-a31b-29ff088bbb3d"
      },
      "outputs": [
        {
          "name": "stdout",
          "output_type": "stream",
          "text": [
            "Estimetor : AdaBoostClassifier\n",
            "Accuracy Score : 0.7525\n",
            "Precision Score : 0.7524752475247525\n",
            "Recall Score : 0.7562189054726368\n",
            "F1 Score : 0.7543424317617866\n"
          ]
        }
      ],
      "source": [
        "print(\"Estimetor :\",'AdaBoostClassifier')\n",
        "print(\"Accuracy Score :\",Accuracy_Score)\n",
        "print(\"Precision Score :\",Precision_Score)\n",
        "print(\"Recall Score :\",Recall_Score)\n",
        "print(\"F1 Score :\",F1_Score)"
      ]
    },
    {
      "cell_type": "code",
      "execution_count": null,
      "metadata": {
        "id": "m0BMZn1tVElc"
      },
      "outputs": [],
      "source": []
    }
  ],
  "metadata": {
    "colab": {
      "provenance": []
    },
    "kernelspec": {
      "display_name": "Python 3",
      "name": "python3"
    },
    "language_info": {
      "name": "python",
      "version": "3.10.0"
    }
  },
  "nbformat": 4,
  "nbformat_minor": 0
}
